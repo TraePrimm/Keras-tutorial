{
 "cells": [
  {
   "cell_type": "code",
   "execution_count": 1,
   "metadata": {},
   "outputs": [
    {
     "name": "stderr",
     "output_type": "stream",
     "text": [
      "Using TensorFlow backend.\n"
     ]
    }
   ],
   "source": [
    "import keras\n",
    "from keras.models import Sequential\n",
    "from keras.layers import Dense, Activation\n",
    "import numpy as np\n",
    "import matplotlib.pyplot as plt"
   ]
  },
  {
   "cell_type": "markdown",
   "metadata": {},
   "source": [
    "<h1>esablishing our x and y</h1>\n",
    "\n",
    "np.linespace as a numpyfunction that esatblishes a number sequence that we can use for our matplotlib graph latter\n",
    "and our y is using that sequence of x to come up with its sequence"
   ]
  },
  {
   "cell_type": "code",
   "execution_count": 6,
   "metadata": {},
   "outputs": [],
   "source": [
    "x = data = np.linspace(1,2,200)\n",
    "y = x*4 + np.random.randn(*x.shape) *0.3"
   ]
  },
  {
   "cell_type": "markdown",
   "metadata": {},
   "source": [
    "<h1>Now it is time to establish our model</h1>\n"
   ]
  },
  {
   "cell_type": "code",
   "execution_count": 9,
   "metadata": {},
   "outputs": [],
   "source": [
    "model = Sequential()\n",
    "model.add(Dense(1, input_dim=1, activation='linear'))\n"
   ]
  },
  {
   "cell_type": "markdown",
   "metadata": {},
   "source": [
    "<h1>Compile</h1>\n",
    "\n",
    "sgd stands for stochastic gradient descent which is a type of gradient descent and a gradient descent is just a way to find the lowest point on the graph\n",
    "\n",
    "mse stands for mean squared error which messusures the average squared difference between the estimated values and the actual value it can also be seen as a risk function and all of this is just a way to tell you the distance from the points to the regression line and these distances are the errors\n",
    "\n",
    "metrics are a way to judge performance of the model and in this case we are using mse to compute the preformance loss and metrics are similar to each other except that the results from evaluating a metric are not used when trainag the model"
   ]
  },
  {
   "cell_type": "code",
   "execution_count": 13,
   "metadata": {},
   "outputs": [],
   "source": [
    "model.compile(optimizer='sgd', loss='mse', metrics=['mse'])"
   ]
  },
  {
   "cell_type": "markdown",
   "metadata": {},
   "source": [
    "<h1>Establishing weights</h1>"
   ]
  },
  {
   "cell_type": "code",
   "execution_count": 12,
   "metadata": {},
   "outputs": [
    {
     "name": "stdout",
     "output_type": "stream",
     "text": [
      "Linear regression model is initialized with weights w: 0.25, b: 0.00\n"
     ]
    }
   ],
   "source": [
    "weights = model.layers[0].get_weights()\n",
    "w_init = weights[0][0][0]\n",
    "b_init = weights[1][0]\n",
    "print('Linear regression model is initialized with weights w: %.2f, b: %.2f' % (w_init, b_init))"
   ]
  },
  {
   "cell_type": "markdown",
   "metadata": {},
   "source": [
    "<h1>Training</h1>\n",
    "\n",
    "the batch size is telling us that we are using 1 number at a time for 30 epochs or cycles"
   ]
  },
  {
   "cell_type": "code",
   "execution_count": 14,
   "metadata": {},
   "outputs": [
    {
     "name": "stdout",
     "output_type": "stream",
     "text": [
      "Epoch 1/30\n",
      "200/200 [==============================] - 0s 2ms/step - loss: 1.0767 - mse: 1.0767\n",
      "Epoch 2/30\n",
      "200/200 [==============================] - 0s 2ms/step - loss: 0.1540 - mse: 0.1540\n",
      "Epoch 3/30\n",
      "200/200 [==============================] - 0s 2ms/step - loss: 0.1485 - mse: 0.1485\n",
      "Epoch 4/30\n",
      "200/200 [==============================] - 0s 2ms/step - loss: 0.1434 - mse: 0.1434\n",
      "Epoch 5/30\n",
      "200/200 [==============================] - 0s 2ms/step - loss: 0.1388 - mse: 0.1388\n",
      "Epoch 6/30\n",
      "200/200 [==============================] - 0s 2ms/step - loss: 0.1346 - mse: 0.1346\n",
      "Epoch 7/30\n",
      "200/200 [==============================] - 0s 2ms/step - loss: 0.1307 - mse: 0.1307\n",
      "Epoch 8/30\n",
      "200/200 [==============================] - 0s 2ms/step - loss: 0.1271 - mse: 0.1271\n",
      "Epoch 9/30\n",
      "200/200 [==============================] - 0s 2ms/step - loss: 0.1238 - mse: 0.1238\n",
      "Epoch 10/30\n",
      "200/200 [==============================] - 0s 2ms/step - loss: 0.1208 - mse: 0.1208\n",
      "Epoch 11/30\n",
      "200/200 [==============================] - 0s 2ms/step - loss: 0.1180 - mse: 0.1180\n",
      "Epoch 12/30\n",
      "200/200 [==============================] - 0s 2ms/step - loss: 0.1155 - mse: 0.1155\n",
      "Epoch 13/30\n",
      "200/200 [==============================] - 0s 2ms/step - loss: 0.1132 - mse: 0.1132\n",
      "Epoch 14/30\n",
      "200/200 [==============================] - 0s 2ms/step - loss: 0.1110 - mse: 0.1110\n",
      "Epoch 15/30\n",
      "200/200 [==============================] - 0s 2ms/step - loss: 0.1091 - mse: 0.1091\n",
      "Epoch 16/30\n",
      "200/200 [==============================] - 0s 2ms/step - loss: 0.1073 - mse: 0.1073\n",
      "Epoch 17/30\n",
      "200/200 [==============================] - 0s 2ms/step - loss: 0.1056 - mse: 0.1056\n",
      "Epoch 18/30\n",
      "200/200 [==============================] - 0s 2ms/step - loss: 0.1041 - mse: 0.1041\n",
      "Epoch 19/30\n",
      "200/200 [==============================] - 0s 2ms/step - loss: 0.1027 - mse: 0.1027\n",
      "Epoch 20/30\n",
      "200/200 [==============================] - 0s 2ms/step - loss: 0.1014 - mse: 0.1014\n",
      "Epoch 21/30\n",
      "200/200 [==============================] - 0s 2ms/step - loss: 0.1002 - mse: 0.1002\n",
      "Epoch 22/30\n",
      "200/200 [==============================] - 0s 2ms/step - loss: 0.0992 - mse: 0.0992A: 0s - loss: 0.1195 - mse: 0.\n",
      "Epoch 23/30\n",
      "200/200 [==============================] - 0s 2ms/step - loss: 0.0982 - mse: 0.0982\n",
      "Epoch 24/30\n",
      "200/200 [==============================] - 0s 2ms/step - loss: 0.0973 - mse: 0.0973\n",
      "Epoch 25/30\n",
      "200/200 [==============================] - 0s 2ms/step - loss: 0.0965 - mse: 0.0965\n",
      "Epoch 26/30\n",
      "200/200 [==============================] - 0s 2ms/step - loss: 0.0957 - mse: 0.0957\n",
      "Epoch 27/30\n",
      "200/200 [==============================] - 0s 2ms/step - loss: 0.0950 - mse: 0.0950\n",
      "Epoch 28/30\n",
      "200/200 [==============================] - 0s 2ms/step - loss: 0.0944 - mse: 0.0944\n",
      "Epoch 29/30\n",
      "200/200 [==============================] - 0s 2ms/step - loss: 0.0938 - mse: 0.0938\n",
      "Epoch 30/30\n",
      "200/200 [==============================] - 0s 2ms/step - loss: 0.0933 - mse: 0.0933\n"
     ]
    },
    {
     "data": {
      "text/plain": [
       "<keras.callbacks.callbacks.History at 0x19830bf8508>"
      ]
     },
     "execution_count": 14,
     "metadata": {},
     "output_type": "execute_result"
    }
   ],
   "source": [
    "model.fit(x,y, batch_size=1, epochs=30, shuffle=False)"
   ]
  },
  {
   "cell_type": "markdown",
   "metadata": {},
   "source": [
    "<h1>Gainz</h1>\n",
    "\n",
    "now we are going to show how the model adjusted the weights to make the regresion line better suite the data we have given it"
   ]
  },
  {
   "cell_type": "code",
   "execution_count": 15,
   "metadata": {},
   "outputs": [
    {
     "name": "stdout",
     "output_type": "stream",
     "text": [
      "Linear regression model is traind to have weight w: 3.70, b: 0.59,\n"
     ]
    }
   ],
   "source": [
    "weights = model.layers[0].get_weights()\n",
    "w_final = weights[0][0][0]\n",
    "b_final = weights[1][0]\n",
    "print('Linear regression model is traind to have weight w: %.2f, b: %.2f,' % (w_final, b_final))"
   ]
  },
  {
   "cell_type": "code",
   "execution_count": 16,
   "metadata": {},
   "outputs": [],
   "source": [
    "predict = model.predict(data)"
   ]
  },
  {
   "cell_type": "markdown",
   "metadata": {},
   "source": [
    "<h1>Visulization</h1>\n",
    "\n",
    "using matplotlib we can show what this looks like"
   ]
  },
  {
   "cell_type": "code",
   "execution_count": 17,
   "metadata": {},
   "outputs": [
    {
     "data": {
      "image/png": "[encoded data removed]",
      "text/plain": [
       "<Figure size 432x288 with 1 Axes>"
      ]
     },
     "metadata": {
      "needs_background": "light"
     },
     "output_type": "display_data"
    }
   ],
   "source": [
    "plt.plot(data, predict, 'b', data, y, 'k.')\n",
    "plt.show()"
   ]
  }
 ],
 "metadata": {
  "kernelspec": {
   "display_name": "Python 3",
   "language": "python",
   "name": "python3"
  },
  "language_info": {
   "codemirror_mode": {
    "name": "ipython",
    "version": 3
   },
   "file_extension": ".py",
   "mimetype": "text/x-python",
   "name": "python",
   "nbconvert_exporter": "python",
   "pygments_lexer": "ipython3",
   "version": "3.7.0"
  }
 },
 "nbformat": 4,
 "nbformat_minor": 4
}
